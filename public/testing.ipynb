{
 "cells": [
  {
   "cell_type": "code",
   "execution_count": 1,
   "metadata": {},
   "outputs": [
    {
     "name": "stdout",
     "output_type": "stream",
     "text": [
      "Error: 401 Client Error: Unauthorized for url: https://external.transitapp.com/v3/public/nearby_stops?lat=45.526168077787894&lon=-73.59506067289408&max_distance=150&stop_filter=Routable&pickup_dropoff_filter=Everything&apiKey=c59e7c65280a3d9819175f904fb7e4f8f03f88d99dd4bc7f41ebdfc9431c3cef\n"
     ]
    }
   ],
   "source": [
    "import requests\n",
    "latitude = 45.526168077787894\n",
    "longitude = -73.59506067289408\n",
    "url = \"https://transitapp.com/apis \"\n",
    "api_key = 'c59e7c65280a3d9819175f904fb7e4f8f03f88d99dd4bc7f41ebdfc9431c3cef'\n",
    "def get_nearby_stops(lat, lon, max_distance=150, stop_filter='Routable', pickup_dropoff_filter='Everything', language='en', api_key=''):\n",
    "    cur_url = \"https://external.transitapp.com/v3/public/nearby_stops\"\n",
    "    params = {\n",
    "        'lat': lat,\n",
    "        'lon': lon,\n",
    "        'max_distance': max_distance,\n",
    "        'stop_filter': stop_filter,\n",
    "        'pickup_dropoff_filter': pickup_dropoff_filter,\n",
    "        'apiKey': api_key  # Include the API key as a query parameter\n",
    "    }\n",
    "    headers = {\n",
    "        'Accept-Language': language\n",
    "    }\n",
    "    try:\n",
    "        response = requests.get(cur_url, params=params, headers=headers)\n",
    "        response.raise_for_status()  # Raise an exception if the request was not successful\n",
    "        data = response.json()\n",
    "        return data  # Return the response data\n",
    "    except requests.exceptions.RequestException as e:\n",
    "        print('Error:', e)\n",
    "        return None\n",
    "# Example usage\n",
    "stops = get_nearby_stops(latitude, longitude, api_key=api_key)\n",
    "if stops is not None:\n",
    "    print('Nearby stops:')\n",
    "    for stop in stops:\n",
    "        print(stop)"
   ]
  },
  {
   "cell_type": "code",
   "execution_count": null,
   "metadata": {},
   "outputs": [],
   "source": []
  }
 ],
 "metadata": {
  "kernelspec": {
   "display_name": "Python 3",
   "language": "python",
   "name": "python3"
  },
  "language_info": {
   "codemirror_mode": {
    "name": "ipython",
    "version": 3
   },
   "file_extension": ".py",
   "mimetype": "text/x-python",
   "name": "python",
   "nbconvert_exporter": "python",
   "pygments_lexer": "ipython3",
   "version": "3.11.1"
  },
  "orig_nbformat": 4
 },
 "nbformat": 4,
 "nbformat_minor": 2
}
